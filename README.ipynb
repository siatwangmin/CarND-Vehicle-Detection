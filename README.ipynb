{
 "cells": [
  {
   "cell_type": "markdown",
   "metadata": {},
   "source": [
    "## Vehicle Detection Project\n",
    "\n",
    "---\n",
    "\n",
    "**Vehicle Detection Project**\n",
    "\n",
    "The goals / steps of this project are the following:\n",
    "\n",
    "* Perform a Histogram of Oriented Gradients (HOG) feature extraction on a labeled training set of images and train a classifier Linear SVM classifier\n",
    "* a color transform and append binned color features to my HOG feature vector.　features　normalization and randomization of training and testing dataset are conducted\n",
    "* a sliding-window technique is adopted to propose candidate regions for car, and the regions are input into a trained classifier\n",
    "* a pipeline works on a video stream and a heat map is created for recurring detections frame by frame to reject outliers and follow detected vehicles.\n",
    "* Estimate a bounding box for vehicles detected.\n",
    "\n",
    "### Submissiones\n",
    "\n",
    "* CarND-Vehicle-Dection.ipynb is the project solution , all the code contains in it.\n",
    "* svc_pickle.p is the model and feature parameters\n",
    "* README.md it the writeup file of the project\n",
    "* test_result.mp4 is the performance on the test_video.mp4\n",
    "* result.mp4 is the performance on the project_video.mp4\n",
    "---"
   ]
  },
  {
   "cell_type": "markdown",
   "metadata": {},
   "source": [
    "---\n",
    "\n",
    "### Histogram of Oriented Gradients (HOG)\n",
    "\n",
    "#### 1. Explain how (and identify where in your code) you extracted HOG features from the training images.\n",
    "\n",
    "I started by reading in all the `vehicle` and `non-vehicle` images. there are 8792  cars and 8968  non-cars\n",
    " for training and testing, Here is some examples of `vehicle` and `non-vehicle` classes:\n",
    "\n",
    "[image1]: ./examples/car_not_car.png\n",
    "![alt text][image1]\n",
    "\n",
    "Here is an example using the `RGB` color space and HOG parameters of `orientations=8`, `pixels_per_cell=(8, 8)` and `cells_per_block=(2, 2)`:\n",
    "\n",
    "[image2]: ./examples/HOG_example.png\n",
    "![alt text][image2]"
   ]
  },
  {
   "cell_type": "markdown",
   "metadata": {},
   "source": [
    "#### 2. Explain how you settled on your final choice of HOG parameters.\n",
    "\n",
    "The 6th cell of CarND-Vehicle-Dection.ipynb show how I settel on the final choice of HOG parameters, I get a smaller data set of car and notcar, small_car number is 1125 and small_notcar is 1125, to investigate the best HOG parameters.\n",
    "\n",
    "Only to consider the HOG features, experiments are conducted and the result is shown as below:\n",
    "\n",
    "| NO. | Colorspace | Orient | Pixels perCell | Cells per Block | HOG Channel | Extract Time | Classifier | Accuracy | Train Time |\n",
    "| :--: | :------: | :----: | :----: | :----: | :------: | :--------: | :--------: | :--------: | :--------: |\n",
    "|  1 \t| RGB \t| 9 \t| 8 \t| 2 \t| ALL \t| 8.44 \t|Linear SVC  | 0.9511 \t| 5.0503\n",
    "|  2 \t| RGB \t| 12 \t| 8 \t| 2 \t| ALL \t| 8.77 \t|Linear SVC  | 0.9489 \t| 0.8531\n",
    "|  3 \t| RGB \t| 18 \t| 8 \t| 2 \t| ALL \t| 9.69 \t|Linear SVC  | 0.9511 \t| 0.9631\n",
    "|  4 \t| RGB \t| 36 \t| 8 \t| 2 \t| ALL \t| 11.49 |Linear SVC  | 0.9578 \t| 1.4608\n",
    "|  5 \t| HSV \t| 9 \t| 8 \t| 2 \t| ALL \t| 8.74 \t|Linear SVC  | 0.9733 \t| 0.3411\n",
    "|  6 \t| HSV \t| 12 \t| 8 \t| 2 \t| ALL \t| 8.98 \t|Linear SVC  | 0.9822 \t| 0.3944\n",
    "|  7 \t| HSV \t| 18 \t| 8 \t| 2 \t| ALL \t| 9.72 \t|Linear SVC  | 0.9778 \t| 0.6515\n",
    "|  8 \t| HSV \t| 36 \t| 8 \t| 2 \t| ALL \t| 11.87 |Linear SVC  | 0.9822 \t| 1.1518\n",
    "|  9 \t| LUV \t| 9 \t| 8 \t| 2 \t| ALL \t| 9.15 \t|Linear SVC  | 0.9578 \t| 5.7852\n",
    "|  10 \t| LUV \t| 12 \t| 8 \t| 2 \t| ALL \t| 9.46 \t|Linear SVC  | 0.9756 \t| 0.4846\n",
    "|  11 \t| LUV \t| 18 \t| 8 \t| 2 \t| ALL \t| 10.01 |Linear SVC  | 0.9711 \t| 0.6345\n",
    "|  12 \t| LUV \t| 36 \t| 8 \t| 2 \t| ALL \t| 12.07 |Linear SVC  | 0.9867 \t| 1.1297\n",
    "|  13 \t| HLS \t| 9 \t| 8 \t| 2 \t| ALL \t| 8.66 \t|Linear SVC  | 0.9778 \t| 0.3291\n",
    "|  14 \t| HLS \t| 12 \t| 8 \t| 2 \t| ALL \t| 9.02 \t|Linear SVC  | 0.98 \t| 0.4273\n",
    "|  15 \t| HLS \t| 18 \t| 8 \t| 2 \t| ALL \t| 9.8 \t|Linear SVC  | 0.9756 \t| 0.602\n",
    "|  16 \t| HLS \t| 36 \t| 8 \t| 2 \t| ALL \t| 11.91 |Linear SVC  | 0.9778 \t| 1.1222\n",
    "|  17 \t| YUV \t| 9 \t| 8 \t| 2 \t| ALL \t| 8.59 \t|Linear SVC  | 0.9733 \t| 0.3299\n",
    "|  18 \t| YUV \t| 12 \t| 8 \t| 2 \t| ALL \t| 8.93 \t|Linear SVC  | 0.9867 \t| 0.4075\n",
    "|  19 \t| YUV \t| 18 \t| 8 \t| 2 \t| ALL \t| 9.64 \t|Linear SVC  | 0.9778 \t| 0.5656\n",
    "|  20 \t| YUV \t| 36 \t| 8 \t| 2 \t| ALL \t| 11.77 |Linear SVC  | 0.9867 \t| 1.1095\n",
    "|  21 \t| YCrCb | 9 \t| 8 \t| 2 \t| ALL \t| 8.64 \t|Linear SVC  | 0.9756 \t| 0.3924\n",
    "|  22 \t| YCrCb | 12 \t| 8 \t| 2 \t| ALL \t| 8.93 \t|Linear SVC  | 0.9667 \t| 0.3848\n",
    "|  23 \t| YCrCb | 18 \t| 8 \t| 2 \t| ALL \t| 9.66 \t|Linear SVC  | 0.9756 \t| 0.5941\n",
    "|  24 \t| YCrCb | 36 \t| 8 \t| 2 \t| ALL \t| 11.78 |Linear SVC  | 0.98 \t| 1.2059"
   ]
  },
  {
   "cell_type": "markdown",
   "metadata": {},
   "source": [
    "we can find that RGB color space is not good features for hog to detect vehicles, Time cost increases with the orientation numbers, Orientation num of 12 performorms good at aspect of accuracy and time costs. \n",
    "\n",
    "but we still cannot find which  Color space is the best. So I Run the HOG+SVM struction for the whole 8792  cars and 8968  non-cars data set\n",
    "\n",
    "| NO. | Colorspace | Orient | Pixels perCell | Cells per Block | HOG Channel | Extract Time | Classifier | Accuracy | Train Time |\n",
    "| :--: | :------: | :----: | :----: | :----: | :------: | :--------: | :--------: | :--------: | :--------: |\n",
    "|  1 \t| RGB \t| 12 \t| 8 \t| 2 \t| ALL \t| 76.16 \t|Linear SVC  | 0.9727 \t| 30.9131\n",
    "|  2 \t| HSV \t| 12 \t| 8 \t| 2 \t| ALL \t| 78.38 \t|Linear SVC  | 0.9828 \t| 4.8821\n",
    "|  3 \t| LUV \t| 12 \t| 8 \t| 2 \t| ALL \t| 90.82 \t|Linear SVC  | 0.9735 \t| 31.413\n",
    "|  4 \t| HLS \t| 12 \t| 8 \t| 2 \t| ALL \t| 77.9 \t|Linear SVC  | 0.9831 \t| 28.569\n",
    "|  5 \t| YUV \t| 12 \t| 8 \t| 2 \t| ALL \t| 79.44 \t|Linear SVC  | 0.9862 \t| 5.4692\n",
    "|  6 \t| YCrCb \t| 12 \t| 8 \t| 2 \t| ALL \t| 73.53 \t|Linear SVC  | 0.98 \t| 19.823"
   ]
  },
  {
   "cell_type": "markdown",
   "metadata": {},
   "source": [
    "and we find that HOG features perform the best in **YUV Color space** on all vehicles and not vehicels data\n",
    "\n",
    "so next we want to found the best Parameters and we run the HOG+SVM classifier on the smaller data set to get the intuition.\n",
    "\n",
    "| NO. | Colorspace | Orient | Pixels perCell | Cells per Block | HOG Channel | Extract Time | Classifier | Accuracy | Train Time |\n",
    "| :--: | :------: | :----: | :----: | :----: | :------: | :--------: | :--------: | :--------: | :--------: |\n",
    "|  1 \t| YUV \t| 12 \t| 8 \t| 2 \t| ALL \t| 9.18 \t|Linear SVC  | 0.98 \t| 0.4347\n",
    "|  2 \t| YUV \t| 12 \t| 16 \t| 2 \t| ALL \t| 5.96 \t|Linear SVC  | 0.9644 \t| 0.8132\n",
    "|  3 \t| YUV \t| 12 \t| 32 \t| 2 \t| ALL \t| 5.36 \t|Linear SVC  | 0.9311 \t| 0.0665"
   ]
  },
  {
   "cell_type": "markdown",
   "metadata": {},
   "source": [
    "We can find from tables above that **8 pixels per cell is the best perfmance**\n",
    "\n",
    "\n",
    "\n",
    "| NO. | Colorspace | Orient | Pixels perCell | Cells per Block | HOG Channel | Extract Time | Classifier | Accuracy | Train Time |\n",
    "| :--: | :------: | :----: | :----: | :----: | :------: | :--------: | :--------: | :--------: | :--------: |\n",
    "|  1 \t| YUV \t| 12 \t| 8 \t| 2 \t| ALL \t| 8.69 \t|Linear SVC  | 0.9778 \t| 1.8986\n",
    "|  2 \t| YUV \t| 12 \t| 8 \t| 4 \t| ALL \t| 8.08 \t|Linear SVC  | 0.9667 \t| 1.0709\n"
   ]
  },
  {
   "cell_type": "markdown",
   "metadata": {},
   "source": [
    "We can find from tables above that **2 cells per block will be chosen**\n",
    "\n",
    "| NO. | spatial | spatial size | hist | hist_bins | Extract Time | Classifier | Accuracy | Train Time |\n",
    "| :--:| :------:|:---------:| :----------: | :-------: | :----------: | :--------: | :------: | :--------: |\n",
    "|  1 \t| True \t| (32, 32) \t| True \t| 16 \t| 9.49 \t|Linear SVC  | 0.9822 \t| 0.6012\n",
    "|  2 \t| True \t| (32, 32) \t| True \t| 32 \t| 9.33 \t|Linear SVC  | 0.9933 \t| 0.5326\n",
    "|  3 \t| True \t| (32, 32) \t| True \t| 64 \t| 9.34 \t|Linear SVC  | 0.9844 \t| 0.5998\n",
    "|  4 \t| True \t| (32, 32) \t| True \t| 128 \t| 9.33 \t|Linear SVC  | 0.9933 \t| 0.5325\n",
    "|  5 \t| True \t| (64, 64) \t| True \t| 16 \t| 9.33 \t|Linear SVC  | 0.9844 \t| 1.4657\n",
    "|  6 \t| True \t| (64, 64) \t| True \t| 32 \t| 9.37 \t|Linear SVC  | 0.98 \t| 1.3106\n",
    "|  7 \t| True \t| (64, 64) \t| True \t| 64 \t| 9.33 \t|Linear SVC  | 0.9778 \t| 1.723\n",
    "|  8 \t| True \t| (64, 64) \t| True \t| 128 \t| 9.33 \t|Linear SVC  | 0.98 \t| 1.2972\n",
    "|  9 \t| True \t| (128, 128) \t| True \t| 16 \t| 9.52 \t|Linear SVC  | 0.9844 \t| 14.5779\n",
    "|  10 \t| True \t| (128, 128) \t| True \t| 32 \t| 10.37 \t|Linear SVC  | 0.9667 \t| 21.6237\n",
    "|  11 \t| True \t| (128, 128) \t| True \t| 64 \t| 14.92 \t|Linear SVC  | 0.9733 \t| 21.0462\n",
    "|  12 \t| True \t| (128, 128) \t| True \t| 128 \t| 10.35 \t|Linear SVC  | 0.9756 \t| 10.9654\n",
    "\n",
    "as the table shows below,the best spaitial size and hist_bins is (32, 32) and (32)　repectly.\n",
    "\n",
    "So the final parameter is that\n",
    "```python\n",
    "color_space = 'YUV' # Can be RGB, HSV, LUV, HLS, YUV, YCrCb\n",
    "orient = 12  # HOG orientations\n",
    "pix_per_cell = 8 # HOG pixels per cell\n",
    "cell_per_block = 2 # HOG cells per block\n",
    "hog_channel = \"ALL\" # Can be 0, 1, 2, or \"ALL\"\n",
    "spatial_size = (32, 32) # Spatial binning dimensions\n",
    "hist_bins = 32    # Number of histogram bins\n",
    "spatial_feat = True # Spatial features on or off\n",
    "hist_feat = False # Histogram features on or off\n",
    "hog_feat = True # HOG features on or off\n",
    "```"
   ]
  },
  {
   "cell_type": "markdown",
   "metadata": {},
   "source": [
    "#### 3. Describe how (and identify where in your code) you trained a classifier using your selected HOG features (and color features if you used them).\n",
    "\n",
    "Since HOG + SVM Frame has achived a hug success in pedestrain detection, so in \"Train Classifier\" section  of CarND-Vehicle-Dection.ipynb, I trained a linear SVM with the default classifier parameters and using HOG features with color spatial hist features and achives the accuracy of 99.01%"
   ]
  },
  {
   "cell_type": "markdown",
   "metadata": {},
   "source": [
    "### Sliding Window Search\n",
    "\n",
    "#### 1. Describe how (and identify where in your code) you implemented a sliding window search.  How did you decide what scales to search and how much to overlap windows?\n",
    "\n",
    "In \" Sliding Window Search\" section, I write a method `find_cars` based on the udacity lesson fuction. `find_cars` is a Hog Sub-sampling Window Search method, it's a combination of HOG feature extraction and a sliding window search to make the process more effcient and time-saving.\n",
    "\n",
    "the HOG features are extracted for Region of Interest only once, and then features are subsampled according to the size of the window and then fed to the classifier. \n",
    "\n",
    "Since the car looks smaller when far away and look larger when it's nearby, we should different scale in the different region. The region is show below:\n",
    "\n",
    "| y_start_stop | scale |\n",
    "|:------------------:|:----------------:|\n",
    "|  (400, 500)  | 1.0, 1.3\n",
    "|  (410, 500)  | 1.4\n",
    "|  (420, 556)  | 1.6\n",
    "|  (430, 556)  | 1.8, 2.0\n",
    "|  (440, 556)  | 1.9\n",
    "|  (400, 556)  | 1.3, 2.2\n",
    "|  (500, 656)  | 3.0\n",
    "\n",
    "\n",
    "The image below shows the  1st row  of the table's boxes region:\n",
    "\n",
    "[image3]: ./examples/sliding_window.png\n",
    "[image31]: ./examples/sliding_window1.png\n",
    "![alt text][image3]\n",
    "\n",
    "\n",
    "The image below shows the  6st row  of the table's boxes region:\n",
    "![alt text][image31]"
   ]
  },
  {
   "cell_type": "markdown",
   "metadata": {},
   "source": [
    "#### 2. Show some examples of test images to demonstrate how your pipeline is working.  What did you do to optimize the performance of your classifier?\n",
    "\n",
    "Ultimately I searched on two scales using YUV 3-channel HOG features plus spatially binned color in the feature vector, which provided a nice result. The image below shows the rectangles returned by `find_cars` drawn onto test image in the final implementation.  Here are some example images:\n",
    "\n",
    "[image4]: ./examples/find_car_result.png\n",
    "![alt text][image4]\n",
    "\n",
    "---"
   ]
  },
  {
   "cell_type": "markdown",
   "metadata": {},
   "source": [
    "### Video Implementation\n",
    "\n",
    "#### 1. Provide a link to your final video output.  Your pipeline should perform reasonably well on the entire project video (somewhat wobbly or unstable bounding boxes are ok as long as you are identifying the vehicles most of the time with minimal false positives.)\n",
    "\n",
    "[video1]: ./project_video.mp4\n",
    "Here's a [link to my video result](./result.mp4)"
   ]
  },
  {
   "cell_type": "markdown",
   "metadata": {},
   "source": [
    "#### 2. Describe how (and identify where in your code) you implemented some kind of filter for false positives and some method for combining overlapping bounding boxes.\n",
    "\n",
    "I recorded the positions of positive detections in each frame of the video.  From the positive detections I created a heatmap and then thresholded that map to identify vehicle positions.  I then used `scipy.ndimage.measurements.label()` to identify individual blobs in the heatmap.  I then assumed each blob corresponded to a vehicle.  I constructed bounding boxes to cover the area of each blob detected.  \n",
    "\n",
    "Here's an example result showing the heatmap from a series of frames of video, the result of `scipy.ndimage.measurements.label()` and the bounding boxes then overlaid on the last frame of video:\n",
    "\n",
    "### Here are six frames and their corresponding heatmaps:\n",
    "\n",
    "[image51]: ./examples/bboxes_and_heat1.png\n",
    "[image52]: ./examples/bboxes_and_heat2.png\n",
    "[image53]: ./examples/bboxes_and_heat3.png\n",
    "[image54]: ./examples/bboxes_and_heat4.png\n",
    "[image55]: ./examples/bboxes_and_heat5.png\n",
    "[image56]: ./examples/bboxes_and_heat6.png\n",
    "\n",
    "![alt text][image51]\n",
    "![alt text][image52]\n",
    "![alt text][image53]\n",
    "![alt text][image54]\n",
    "![alt text][image55]\n",
    "![alt text][image56]\n",
    "\n",
    "### Here is the output of `scipy.ndimage.measurements.label()` on the integrated heatmap from all six frames and the resulting bounding boxes:\n",
    "\n",
    "[image61]: ./examples/labels_map1.png\n",
    "[image62]: ./examples/labels_map2.png\n",
    "[image63]: ./examples/labels_map3.png\n",
    "[image64]: ./examples/labels_map4.png\n",
    "[image65]: ./examples/labels_map5.png\n",
    "[image66]: ./examples/labels_map6.png\n",
    "\n",
    "![alt text][image61]\n",
    "![alt text][image62]\n",
    "![alt text][image63]\n",
    "![alt text][image64]\n",
    "![alt text][image65]\n",
    "![alt text][image66]\n",
    "\n",
    "---"
   ]
  },
  {
   "cell_type": "markdown",
   "metadata": {},
   "source": [
    "### Discussion\n",
    "\n",
    "#### 1. Briefly discuss any problems / issues you faced in your implementation of this project.  Where will your pipeline likely fail?  What could you do to make it more robust?\n",
    "\n",
    "It takes lots of time to tune the parameter of HOG features, Finnaly I set a small data sets to find the intuition. I think it's is a good choice to do experiements on smaller data sets. \n",
    "\n",
    "Particle filter or kalman filter can be added to the future work, Since there are correlations between frame and frame, this will make the work more robust.\n",
    "\n",
    "SSD or Faster RNN can be a good direction to this project.\n"
   ]
  }
 ],
 "metadata": {
  "kernelspec": {
   "display_name": "Python 3",
   "language": "python",
   "name": "python3"
  },
  "language_info": {
   "codemirror_mode": {
    "name": "ipython",
    "version": 3
   },
   "file_extension": ".py",
   "mimetype": "text/x-python",
   "name": "python",
   "nbconvert_exporter": "python",
   "pygments_lexer": "ipython3",
   "version": "3.5.2"
  },
  "widgets": {
   "state": {},
   "version": "1.1.2"
  }
 },
 "nbformat": 4,
 "nbformat_minor": 2
}
